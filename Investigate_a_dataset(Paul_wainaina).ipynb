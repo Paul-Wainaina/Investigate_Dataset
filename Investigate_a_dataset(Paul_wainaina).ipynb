{
 "cells": [
  {
   "cell_type": "markdown",
   "id": "30bac9dc",
   "metadata": {},
   "source": [
    "# Projct: Investigate a Dataset - [No-show appointments]\n"
   ]
  },
  {
   "cell_type": "markdown",
   "id": "ba8d3d2b",
   "metadata": {},
   "source": [
    "# Table of contents"
   ]
  },
  {
   "cell_type": "markdown",
   "id": "f0c330ce",
   "metadata": {},
   "source": [
    "1. Introduction\n",
    "2. Data Wrangling\n",
    "3. Exploratoryn Data Analysis\n",
    "4. conclusion\n"
   ]
  },
  {
   "cell_type": "markdown",
   "id": "87da34f9",
   "metadata": {},
   "source": [
    "# Introduction"
   ]
  },
  {
   "cell_type": "markdown",
   "id": "ec4d4cff",
   "metadata": {},
   "source": [
    "In this project i have investigated a dataset of no show appointments for public hospitals in Brazil. The data has some patients characteristics such gender, age and others. The analysis is focused on trying to find the patients characteristics that affect if they show up for their appointments"
   ]
  },
  {
   "cell_type": "markdown",
   "id": "90bcd02a",
   "metadata": {},
   "source": [
    "### Dataset Description"
   ]
  },
  {
   "cell_type": "markdown",
   "id": "2e3ccefd",
   "metadata": {},
   "source": [
    "#### load the data into a dataframe"
   ]
  },
  {
   "cell_type": "code",
   "execution_count": 253,
   "id": "b9f7d679",
   "metadata": {},
   "outputs": [],
   "source": [
    "import numpy as np\n",
    "import pandas as pd \n",
    "import matplotlib.pyplot as plt\n",
    "%matplotlib inline\n",
    "\n",
    "df = pd.read_csv(\"noshowappointments-kagglev2-may-2016.csv\")"
   ]
  },
  {
   "cell_type": "markdown",
   "id": "b2d3daed",
   "metadata": {},
   "source": [
    "### Columns in the Dataset\n"
   ]
  },
  {
   "cell_type": "code",
   "execution_count": 254,
   "id": "c125641f",
   "metadata": {},
   "outputs": [
    {
     "data": {
      "text/plain": [
       "Index(['PatientId', 'AppointmentID', 'Gender', 'ScheduledDay',\n",
       "       'AppointmentDay', 'Age', 'Neighbourhood', 'Scholarship', 'Hipertension',\n",
       "       'Diabetes', 'Alcoholism', 'Handcap', 'SMS_received', 'No-show'],\n",
       "      dtype='object')"
      ]
     },
     "execution_count": 254,
     "metadata": {},
     "output_type": "execute_result"
    }
   ],
   "source": [
    "# The Dataset has the following columns\n",
    "df.columns"
   ]
  },
  {
   "cell_type": "markdown",
   "id": "c0866d3e",
   "metadata": {},
   "source": [
    "##### Determining the data types of the columns"
   ]
  },
  {
   "cell_type": "code",
   "execution_count": 255,
   "id": "1f51a076",
   "metadata": {},
   "outputs": [
    {
     "data": {
      "text/plain": [
       "PatientId         float64\n",
       "AppointmentID       int64\n",
       "Gender             object\n",
       "ScheduledDay       object\n",
       "AppointmentDay     object\n",
       "Age                 int64\n",
       "Neighbourhood      object\n",
       "Scholarship         int64\n",
       "Hipertension        int64\n",
       "Diabetes            int64\n",
       "Alcoholism          int64\n",
       "Handcap             int64\n",
       "SMS_received        int64\n",
       "No-show            object\n",
       "dtype: object"
      ]
     },
     "execution_count": 255,
     "metadata": {},
     "output_type": "execute_result"
    }
   ],
   "source": [
    "df.dtypes"
   ]
  },
  {
   "cell_type": "markdown",
   "id": "083dfb56",
   "metadata": {},
   "source": [
    "# Questions for the Analysis"
   ]
  },
  {
   "cell_type": "markdown",
   "id": "17ed42cc",
   "metadata": {},
   "source": [
    "The analysis is trying to find attributes that indicate why certain patients showed up for their appointments and the characteristis that have an influence on attending the appointments\n",
    "1. What is the percetage of patients who missed their appointments\n",
    "2. How does the gender affect the rate of showing up for appointments\n",
    "3. Does receiving an SMS influence patients showing up\n",
    "4. Does the day of the appointment influence showing up for appointments\n",
    "5. Does the age of patient influence their attendance\n",
    "6. How do the other in factors influece the rate of patients attending or missing appointments\n",
    "\n"
   ]
  },
  {
   "cell_type": "markdown",
   "id": "4b7d5ace",
   "metadata": {},
   "source": [
    "# Data Wrangling"
   ]
  },
  {
   "cell_type": "markdown",
   "id": "a90145f4",
   "metadata": {},
   "source": [
    "### Number of entries and columns"
   ]
  },
  {
   "cell_type": "code",
   "execution_count": 256,
   "id": "ebfd784e",
   "metadata": {},
   "outputs": [
    {
     "data": {
      "text/plain": [
       "(110527, 14)"
      ]
     },
     "execution_count": 256,
     "metadata": {},
     "output_type": "execute_result"
    }
   ],
   "source": [
    "# Determine the shape of the dataframe\n",
    "df.shape"
   ]
  },
  {
   "cell_type": "markdown",
   "id": "6597685c",
   "metadata": {},
   "source": [
    "The dataframe has 110527 entries and 14 columns"
   ]
  },
  {
   "cell_type": "markdown",
   "id": "0f05da46",
   "metadata": {},
   "source": [
    "#### Renaming columns\n"
   ]
  },
  {
   "cell_type": "code",
   "execution_count": 257,
   "id": "4f041713",
   "metadata": {},
   "outputs": [],
   "source": [
    "# replacing hypens with underscores and uppercase with lowercase\n",
    "df.rename(columns=lambda i: i.lower().replace(\"-\", \"_\"), inplace=True)"
   ]
  },
  {
   "cell_type": "code",
   "execution_count": 258,
   "id": "30d4a719",
   "metadata": {},
   "outputs": [
    {
     "data": {
      "text/plain": [
       "Index(['patientid', 'appointmentid', 'gender', 'scheduledday',\n",
       "       'appointmentday', 'age', 'neighbourhood', 'scholarship', 'hipertension',\n",
       "       'diabetes', 'alcoholism', 'handcap', 'sms_received', 'no_show'],\n",
       "      dtype='object')"
      ]
     },
     "execution_count": 258,
     "metadata": {},
     "output_type": "execute_result"
    }
   ],
   "source": [
    "df.columns"
   ]
  },
  {
   "cell_type": "code",
   "execution_count": 259,
   "id": "48f3b6da",
   "metadata": {},
   "outputs": [
    {
     "data": {
      "text/html": [
       "<div>\n",
       "<style scoped>\n",
       "    .dataframe tbody tr th:only-of-type {\n",
       "        vertical-align: middle;\n",
       "    }\n",
       "\n",
       "    .dataframe tbody tr th {\n",
       "        vertical-align: top;\n",
       "    }\n",
       "\n",
       "    .dataframe thead th {\n",
       "        text-align: right;\n",
       "    }\n",
       "</style>\n",
       "<table border=\"1\" class=\"dataframe\">\n",
       "  <thead>\n",
       "    <tr style=\"text-align: right;\">\n",
       "      <th></th>\n",
       "      <th>patientid</th>\n",
       "      <th>appointmentid</th>\n",
       "      <th>gender</th>\n",
       "      <th>scheduledday</th>\n",
       "      <th>appointmentday</th>\n",
       "      <th>age</th>\n",
       "      <th>neighbourhood</th>\n",
       "      <th>scholarship</th>\n",
       "      <th>hipertension</th>\n",
       "      <th>diabetes</th>\n",
       "      <th>alcoholism</th>\n",
       "      <th>handcap</th>\n",
       "      <th>sms_received</th>\n",
       "      <th>no_show</th>\n",
       "    </tr>\n",
       "  </thead>\n",
       "  <tbody>\n",
       "    <tr>\n",
       "      <th>0</th>\n",
       "      <td>2.987250e+13</td>\n",
       "      <td>5642903</td>\n",
       "      <td>F</td>\n",
       "      <td>2016-04-29T18:38:08Z</td>\n",
       "      <td>2016-04-29T00:00:00Z</td>\n",
       "      <td>62</td>\n",
       "      <td>JARDIM DA PENHA</td>\n",
       "      <td>0</td>\n",
       "      <td>1</td>\n",
       "      <td>0</td>\n",
       "      <td>0</td>\n",
       "      <td>0</td>\n",
       "      <td>0</td>\n",
       "      <td>No</td>\n",
       "    </tr>\n",
       "    <tr>\n",
       "      <th>1</th>\n",
       "      <td>5.589978e+14</td>\n",
       "      <td>5642503</td>\n",
       "      <td>M</td>\n",
       "      <td>2016-04-29T16:08:27Z</td>\n",
       "      <td>2016-04-29T00:00:00Z</td>\n",
       "      <td>56</td>\n",
       "      <td>JARDIM DA PENHA</td>\n",
       "      <td>0</td>\n",
       "      <td>0</td>\n",
       "      <td>0</td>\n",
       "      <td>0</td>\n",
       "      <td>0</td>\n",
       "      <td>0</td>\n",
       "      <td>No</td>\n",
       "    </tr>\n",
       "  </tbody>\n",
       "</table>\n",
       "</div>"
      ],
      "text/plain": [
       "      patientid  appointmentid gender          scheduledday  \\\n",
       "0  2.987250e+13        5642903      F  2016-04-29T18:38:08Z   \n",
       "1  5.589978e+14        5642503      M  2016-04-29T16:08:27Z   \n",
       "\n",
       "         appointmentday  age    neighbourhood  scholarship  hipertension  \\\n",
       "0  2016-04-29T00:00:00Z   62  JARDIM DA PENHA            0             1   \n",
       "1  2016-04-29T00:00:00Z   56  JARDIM DA PENHA            0             0   \n",
       "\n",
       "   diabetes  alcoholism  handcap  sms_received no_show  \n",
       "0         0           0        0             0      No  \n",
       "1         0           0        0             0      No  "
      ]
     },
     "execution_count": 259,
     "metadata": {},
     "output_type": "execute_result"
    }
   ],
   "source": [
    "df.head(2)"
   ]
  },
  {
   "cell_type": "markdown",
   "id": "4c4eba6b",
   "metadata": {},
   "source": [
    "### Missing values in the dataframe"
   ]
  },
  {
   "cell_type": "code",
   "execution_count": 260,
   "id": "083f1271",
   "metadata": {},
   "outputs": [
    {
     "data": {
      "text/plain": [
       "patientid         0\n",
       "appointmentid     0\n",
       "gender            0\n",
       "scheduledday      0\n",
       "appointmentday    0\n",
       "age               0\n",
       "neighbourhood     0\n",
       "scholarship       0\n",
       "hipertension      0\n",
       "diabetes          0\n",
       "alcoholism        0\n",
       "handcap           0\n",
       "sms_received      0\n",
       "no_show           0\n",
       "dtype: int64"
      ]
     },
     "execution_count": 260,
     "metadata": {},
     "output_type": "execute_result"
    }
   ],
   "source": [
    "# finding how many null value are in the dataframe\n",
    "df.isnull().sum()"
   ]
  },
  {
   "cell_type": "markdown",
   "id": "1ce336e9",
   "metadata": {},
   "source": [
    "The data has no null values in all the columns"
   ]
  },
  {
   "cell_type": "markdown",
   "id": "874e5927",
   "metadata": {},
   "source": [
    "### Duplicate appointments in the dataframe"
   ]
  },
  {
   "cell_type": "code",
   "execution_count": 261,
   "id": "f8be36a2",
   "metadata": {},
   "outputs": [
    {
     "data": {
      "text/plain": [
       "0"
      ]
     },
     "execution_count": 261,
     "metadata": {},
     "output_type": "execute_result"
    }
   ],
   "source": [
    "# Check how many appointment are repeated \n",
    "df.appointmentid.duplicated().sum()"
   ]
  },
  {
   "cell_type": "markdown",
   "id": "0b09b4ef",
   "metadata": {},
   "source": [
    "The data has no duplicate appointments \n"
   ]
  },
  {
   "cell_type": "markdown",
   "id": "a7b5f42c",
   "metadata": {},
   "source": [
    "### Converting appintmentday type to datetime"
   ]
  },
  {
   "cell_type": "code",
   "execution_count": 262,
   "id": "c18df57d",
   "metadata": {},
   "outputs": [],
   "source": [
    "df[\"appointmentday\"] = pd.to_datetime(df[\"appointmentday\"]).dt.date.astype(\"datetime64[ns]\")"
   ]
  },
  {
   "cell_type": "markdown",
   "id": "2615b830",
   "metadata": {},
   "source": [
    "### Create a new column appintment_day(day of the appointment)"
   ]
  },
  {
   "cell_type": "code",
   "execution_count": 263,
   "id": "0a67e142",
   "metadata": {},
   "outputs": [],
   "source": [
    "df[\"appointment_day\"] = df.appointmentday.dt.day_name()"
   ]
  },
  {
   "cell_type": "code",
   "execution_count": 264,
   "id": "70e9d4c7",
   "metadata": {},
   "outputs": [
    {
     "name": "stdout",
     "output_type": "stream",
     "text": [
      "['patientid', 'appointmentid', 'gender', 'scheduledday', 'appointmentday', 'age', 'neighbourhood', 'scholarship', 'hipertension', 'diabetes', 'alcoholism', 'handcap', 'sms_received', 'no_show', 'appointment_day']\n"
     ]
    }
   ],
   "source": [
    "columns_list = list(df.columns.values)\n",
    "print(columns_list)"
   ]
  },
  {
   "cell_type": "markdown",
   "id": "aefd576b",
   "metadata": {},
   "source": [
    "### Unique values in each column"
   ]
  },
  {
   "cell_type": "code",
   "execution_count": 265,
   "id": "eff1970e",
   "metadata": {},
   "outputs": [],
   "source": [
    "def unique(columns):\n",
    "    for column in columns: \n",
    "        if len(df[column].unique()) <= 5:\n",
    "            print(f\"{column}: \\n {df[column].unique()}\")\n"
   ]
  },
  {
   "cell_type": "code",
   "execution_count": 266,
   "id": "d5c8daa5",
   "metadata": {},
   "outputs": [
    {
     "name": "stdout",
     "output_type": "stream",
     "text": [
      "gender: \n",
      " ['F' 'M']\n",
      "scholarship: \n",
      " [0 1]\n",
      "hipertension: \n",
      " [1 0]\n",
      "diabetes: \n",
      " [0 1]\n",
      "alcoholism: \n",
      " [0 1]\n",
      "handcap: \n",
      " [0 1 2 3 4]\n",
      "sms_received: \n",
      " [0 1]\n",
      "no_show: \n",
      " ['No' 'Yes']\n"
     ]
    }
   ],
   "source": [
    "unique(columns_list)"
   ]
  },
  {
   "cell_type": "markdown",
   "id": "9c8b6ef5",
   "metadata": {},
   "source": [
    "#### Here are some observations\n",
    "1. The handcamp column has inconsistent values\n",
    "2. The patientid is not relevant to the analysis\n"
   ]
  },
  {
   "cell_type": "code",
   "execution_count": 267,
   "id": "5e9bf9fd",
   "metadata": {},
   "outputs": [
    {
     "data": {
      "text/plain": [
       "Index(['patientid', 'appointmentid', 'gender', 'scheduledday',\n",
       "       'appointmentday', 'age', 'neighbourhood', 'scholarship', 'hipertension',\n",
       "       'diabetes', 'alcoholism', 'handcap', 'sms_received', 'no_show',\n",
       "       'appointment_day'],\n",
       "      dtype='object')"
      ]
     },
     "execution_count": 267,
     "metadata": {},
     "output_type": "execute_result"
    }
   ],
   "source": [
    "df.columns"
   ]
  },
  {
   "cell_type": "markdown",
   "id": "7442d79e",
   "metadata": {},
   "source": [
    "## Delete inconsistent and irrelevant columns"
   ]
  },
  {
   "cell_type": "code",
   "execution_count": 268,
   "id": "d20dd7d7",
   "metadata": {},
   "outputs": [
    {
     "data": {
      "text/html": [
       "<div>\n",
       "<style scoped>\n",
       "    .dataframe tbody tr th:only-of-type {\n",
       "        vertical-align: middle;\n",
       "    }\n",
       "\n",
       "    .dataframe tbody tr th {\n",
       "        vertical-align: top;\n",
       "    }\n",
       "\n",
       "    .dataframe thead th {\n",
       "        text-align: right;\n",
       "    }\n",
       "</style>\n",
       "<table border=\"1\" class=\"dataframe\">\n",
       "  <thead>\n",
       "    <tr style=\"text-align: right;\">\n",
       "      <th></th>\n",
       "      <th>appointmentid</th>\n",
       "      <th>gender</th>\n",
       "      <th>scheduledday</th>\n",
       "      <th>appointmentday</th>\n",
       "      <th>age</th>\n",
       "      <th>neighbourhood</th>\n",
       "      <th>scholarship</th>\n",
       "      <th>hipertension</th>\n",
       "      <th>diabetes</th>\n",
       "      <th>alcoholism</th>\n",
       "      <th>sms_received</th>\n",
       "      <th>no_show</th>\n",
       "      <th>appointment_day</th>\n",
       "    </tr>\n",
       "  </thead>\n",
       "  <tbody>\n",
       "    <tr>\n",
       "      <th>30248</th>\n",
       "      <td>5633766</td>\n",
       "      <td>F</td>\n",
       "      <td>2016-04-28T09:48:13Z</td>\n",
       "      <td>2016-05-17</td>\n",
       "      <td>58</td>\n",
       "      <td>RESISTÊNCIA</td>\n",
       "      <td>0</td>\n",
       "      <td>0</td>\n",
       "      <td>0</td>\n",
       "      <td>0</td>\n",
       "      <td>0</td>\n",
       "      <td>No</td>\n",
       "      <td>Tuesday</td>\n",
       "    </tr>\n",
       "    <tr>\n",
       "      <th>12443</th>\n",
       "      <td>5753503</td>\n",
       "      <td>M</td>\n",
       "      <td>2016-05-31T14:13:22Z</td>\n",
       "      <td>2016-05-31</td>\n",
       "      <td>85</td>\n",
       "      <td>ILHA DE SANTA MARIA</td>\n",
       "      <td>0</td>\n",
       "      <td>0</td>\n",
       "      <td>0</td>\n",
       "      <td>0</td>\n",
       "      <td>0</td>\n",
       "      <td>No</td>\n",
       "      <td>Tuesday</td>\n",
       "    </tr>\n",
       "    <tr>\n",
       "      <th>39038</th>\n",
       "      <td>5642672</td>\n",
       "      <td>M</td>\n",
       "      <td>2016-04-29T16:45:08Z</td>\n",
       "      <td>2016-05-03</td>\n",
       "      <td>27</td>\n",
       "      <td>GRANDE VITÓRIA</td>\n",
       "      <td>0</td>\n",
       "      <td>0</td>\n",
       "      <td>0</td>\n",
       "      <td>0</td>\n",
       "      <td>1</td>\n",
       "      <td>No</td>\n",
       "      <td>Tuesday</td>\n",
       "    </tr>\n",
       "  </tbody>\n",
       "</table>\n",
       "</div>"
      ],
      "text/plain": [
       "       appointmentid gender          scheduledday appointmentday  age  \\\n",
       "30248        5633766      F  2016-04-28T09:48:13Z     2016-05-17   58   \n",
       "12443        5753503      M  2016-05-31T14:13:22Z     2016-05-31   85   \n",
       "39038        5642672      M  2016-04-29T16:45:08Z     2016-05-03   27   \n",
       "\n",
       "             neighbourhood  scholarship  hipertension  diabetes  alcoholism  \\\n",
       "30248          RESISTÊNCIA            0             0         0           0   \n",
       "12443  ILHA DE SANTA MARIA            0             0         0           0   \n",
       "39038       GRANDE VITÓRIA            0             0         0           0   \n",
       "\n",
       "       sms_received no_show appointment_day  \n",
       "30248             0      No         Tuesday  \n",
       "12443             0      No         Tuesday  \n",
       "39038             1      No         Tuesday  "
      ]
     },
     "execution_count": 268,
     "metadata": {},
     "output_type": "execute_result"
    }
   ],
   "source": [
    "df.drop([\"patientid\", \"handcap\"], axis=1, inplace=True)\n",
    "df.sample(3)"
   ]
  },
  {
   "cell_type": "markdown",
   "id": "ed5166c2",
   "metadata": {},
   "source": [
    "# Exploratory Data analysis"
   ]
  },
  {
   "cell_type": "markdown",
   "id": "3a4e4d9c",
   "metadata": {},
   "source": [
    "###           Statistical summary of the data"
   ]
  },
  {
   "cell_type": "code",
   "execution_count": 269,
   "id": "ec925b6f",
   "metadata": {
    "scrolled": true
   },
   "outputs": [
    {
     "data": {
      "text/html": [
       "<div>\n",
       "<style scoped>\n",
       "    .dataframe tbody tr th:only-of-type {\n",
       "        vertical-align: middle;\n",
       "    }\n",
       "\n",
       "    .dataframe tbody tr th {\n",
       "        vertical-align: top;\n",
       "    }\n",
       "\n",
       "    .dataframe thead th {\n",
       "        text-align: right;\n",
       "    }\n",
       "</style>\n",
       "<table border=\"1\" class=\"dataframe\">\n",
       "  <thead>\n",
       "    <tr style=\"text-align: right;\">\n",
       "      <th></th>\n",
       "      <th>appointmentid</th>\n",
       "      <th>age</th>\n",
       "      <th>scholarship</th>\n",
       "      <th>hipertension</th>\n",
       "      <th>diabetes</th>\n",
       "      <th>alcoholism</th>\n",
       "      <th>sms_received</th>\n",
       "    </tr>\n",
       "  </thead>\n",
       "  <tbody>\n",
       "    <tr>\n",
       "      <th>count</th>\n",
       "      <td>1.105270e+05</td>\n",
       "      <td>110527.000000</td>\n",
       "      <td>110527.000000</td>\n",
       "      <td>110527.000000</td>\n",
       "      <td>110527.000000</td>\n",
       "      <td>110527.000000</td>\n",
       "      <td>110527.000000</td>\n",
       "    </tr>\n",
       "    <tr>\n",
       "      <th>mean</th>\n",
       "      <td>5.675305e+06</td>\n",
       "      <td>37.088874</td>\n",
       "      <td>0.098266</td>\n",
       "      <td>0.197246</td>\n",
       "      <td>0.071865</td>\n",
       "      <td>0.030400</td>\n",
       "      <td>0.321026</td>\n",
       "    </tr>\n",
       "    <tr>\n",
       "      <th>std</th>\n",
       "      <td>7.129575e+04</td>\n",
       "      <td>23.110205</td>\n",
       "      <td>0.297675</td>\n",
       "      <td>0.397921</td>\n",
       "      <td>0.258265</td>\n",
       "      <td>0.171686</td>\n",
       "      <td>0.466873</td>\n",
       "    </tr>\n",
       "    <tr>\n",
       "      <th>min</th>\n",
       "      <td>5.030230e+06</td>\n",
       "      <td>-1.000000</td>\n",
       "      <td>0.000000</td>\n",
       "      <td>0.000000</td>\n",
       "      <td>0.000000</td>\n",
       "      <td>0.000000</td>\n",
       "      <td>0.000000</td>\n",
       "    </tr>\n",
       "    <tr>\n",
       "      <th>25%</th>\n",
       "      <td>5.640286e+06</td>\n",
       "      <td>18.000000</td>\n",
       "      <td>0.000000</td>\n",
       "      <td>0.000000</td>\n",
       "      <td>0.000000</td>\n",
       "      <td>0.000000</td>\n",
       "      <td>0.000000</td>\n",
       "    </tr>\n",
       "    <tr>\n",
       "      <th>50%</th>\n",
       "      <td>5.680573e+06</td>\n",
       "      <td>37.000000</td>\n",
       "      <td>0.000000</td>\n",
       "      <td>0.000000</td>\n",
       "      <td>0.000000</td>\n",
       "      <td>0.000000</td>\n",
       "      <td>0.000000</td>\n",
       "    </tr>\n",
       "    <tr>\n",
       "      <th>75%</th>\n",
       "      <td>5.725524e+06</td>\n",
       "      <td>55.000000</td>\n",
       "      <td>0.000000</td>\n",
       "      <td>0.000000</td>\n",
       "      <td>0.000000</td>\n",
       "      <td>0.000000</td>\n",
       "      <td>1.000000</td>\n",
       "    </tr>\n",
       "    <tr>\n",
       "      <th>max</th>\n",
       "      <td>5.790484e+06</td>\n",
       "      <td>115.000000</td>\n",
       "      <td>1.000000</td>\n",
       "      <td>1.000000</td>\n",
       "      <td>1.000000</td>\n",
       "      <td>1.000000</td>\n",
       "      <td>1.000000</td>\n",
       "    </tr>\n",
       "  </tbody>\n",
       "</table>\n",
       "</div>"
      ],
      "text/plain": [
       "       appointmentid            age    scholarship   hipertension  \\\n",
       "count   1.105270e+05  110527.000000  110527.000000  110527.000000   \n",
       "mean    5.675305e+06      37.088874       0.098266       0.197246   \n",
       "std     7.129575e+04      23.110205       0.297675       0.397921   \n",
       "min     5.030230e+06      -1.000000       0.000000       0.000000   \n",
       "25%     5.640286e+06      18.000000       0.000000       0.000000   \n",
       "50%     5.680573e+06      37.000000       0.000000       0.000000   \n",
       "75%     5.725524e+06      55.000000       0.000000       0.000000   \n",
       "max     5.790484e+06     115.000000       1.000000       1.000000   \n",
       "\n",
       "            diabetes     alcoholism   sms_received  \n",
       "count  110527.000000  110527.000000  110527.000000  \n",
       "mean        0.071865       0.030400       0.321026  \n",
       "std         0.258265       0.171686       0.466873  \n",
       "min         0.000000       0.000000       0.000000  \n",
       "25%         0.000000       0.000000       0.000000  \n",
       "50%         0.000000       0.000000       0.000000  \n",
       "75%         0.000000       0.000000       1.000000  \n",
       "max         1.000000       1.000000       1.000000  "
      ]
     },
     "execution_count": 269,
     "metadata": {},
     "output_type": "execute_result"
    }
   ],
   "source": [
    "df.describe()"
   ]
  },
  {
   "cell_type": "markdown",
   "id": "b13c7e7c",
   "metadata": {},
   "source": [
    "## Observations from the statistical summary\n",
    "#### 1. age \n",
    "The average age of the patients is 37 years and 75% of the patieints are 55 years or below\n",
    "\n",
    "#### sms_received\n",
    "75% of the patients received an sms for the appointment\n",
    "\n",
    "#### alcoholism \n",
    "Less than 25% of the population are alcoholics\n",
    "\n"
   ]
  },
  {
   "cell_type": "markdown",
   "id": "98b68ce2",
   "metadata": {},
   "source": [
    "## Histograms representation\n"
   ]
  },
  {
   "cell_type": "markdown",
   "id": "534342ec",
   "metadata": {},
   "source": [
    "#### A function to create histograms"
   ]
  },
  {
   "cell_type": "code",
   "execution_count": 270,
   "id": "424a1339",
   "metadata": {},
   "outputs": [],
   "source": [
    "def histogram(column):\n",
    "    df[column].hist();"
   ]
  },
  {
   "cell_type": "markdown",
   "id": "2a8f57c3",
   "metadata": {},
   "source": [
    "###### no_show"
   ]
  },
  {
   "cell_type": "code",
   "execution_count": 271,
   "id": "2a9251be",
   "metadata": {},
   "outputs": [
    {
     "data": {
      "image/png": "[encoded data removed]",
      "text/plain": [
       "<Figure size 432x288 with 1 Axes>"
      ]
     },
     "metadata": {
      "needs_background": "light"
     },
     "output_type": "display_data"
    }
   ],
   "source": [
    "histogram(\"no_show\")"
   ]
  },
  {
   "cell_type": "markdown",
   "id": "47e966be",
   "metadata": {},
   "source": [
    "Majority of the patients attended their appointments\n"
   ]
  },
  {
   "cell_type": "markdown",
   "id": "99ab79cc",
   "metadata": {},
   "source": [
    "#### sms_received"
   ]
  },
  {
   "cell_type": "code",
   "execution_count": 272,
   "id": "2d4bef34",
   "metadata": {},
   "outputs": [
    {
     "data": {
      "image/png": "[encoded data removed]",
      "text/plain": [
       "<Figure size 432x288 with 1 Axes>"
      ]
     },
     "metadata": {
      "needs_background": "light"
     },
     "output_type": "display_data"
    }
   ],
   "source": [
    "histogram(\"sms_received\")"
   ]
  },
  {
   "cell_type": "markdown",
   "id": "da732ad4",
   "metadata": {},
   "source": [
    "#### alcoholism"
   ]
  },
  {
   "cell_type": "code",
   "execution_count": 273,
   "id": "8674e716",
   "metadata": {},
   "outputs": [
    {
     "data": {
      "image/png": "[encoded data removed]",
      "text/plain": [
       "<Figure size 432x288 with 1 Axes>"
      ]
     },
     "metadata": {
      "needs_background": "light"
     },
     "output_type": "display_data"
    }
   ],
   "source": [
    "histogram(\"alcoholism\")"
   ]
  },
  {
   "cell_type": "markdown",
   "id": "bd347c0b",
   "metadata": {},
   "source": [
    "#### diabetes"
   ]
  },
  {
   "cell_type": "code",
   "execution_count": 274,
   "id": "087cf816",
   "metadata": {},
   "outputs": [
    {
     "data": {
      "image/png": "[encoded data removed]",
      "text/plain": [
       "<Figure size 432x288 with 1 Axes>"
      ]
     },
     "metadata": {
      "needs_background": "light"
     },
     "output_type": "display_data"
    }
   ],
   "source": [
    "histogram(\"diabetes\")"
   ]
  },
  {
   "cell_type": "markdown",
   "id": "b0d192d7",
   "metadata": {},
   "source": [
    "#### hipertension"
   ]
  },
  {
   "cell_type": "code",
   "execution_count": 275,
   "id": "da828d39",
   "metadata": {},
   "outputs": [
    {
     "data": {
      "image/png": "[encoded data removed]",
      "text/plain": [
       "<Figure size 432x288 with 1 Axes>"
      ]
     },
     "metadata": {
      "needs_background": "light"
     },
     "output_type": "display_data"
    }
   ],
   "source": [
    "histogram(\"hipertension\")"
   ]
  },
  {
   "cell_type": "markdown",
   "id": "f32f9556",
   "metadata": {},
   "source": [
    "#### scholarship\n"
   ]
  },
  {
   "cell_type": "code",
   "execution_count": 276,
   "id": "330ff815",
   "metadata": {},
   "outputs": [
    {
     "data": {
      "image/png": "[encoded data removed]",
      "text/plain": [
       "<Figure size 432x288 with 1 Axes>"
      ]
     },
     "metadata": {
      "needs_background": "light"
     },
     "output_type": "display_data"
    }
   ],
   "source": [
    "histogram(\"scholarship\")"
   ]
  },
  {
   "cell_type": "markdown",
   "id": "568ab32b",
   "metadata": {},
   "source": [
    "#### gender"
   ]
  },
  {
   "cell_type": "code",
   "execution_count": 277,
   "id": "1f0175cb",
   "metadata": {},
   "outputs": [
    {
     "data": {
      "image/png": "[encoded data removed]",
      "text/plain": [
       "<Figure size 432x288 with 1 Axes>"
      ]
     },
     "metadata": {
      "needs_background": "light"
     },
     "output_type": "display_data"
    }
   ],
   "source": [
    "histogram(\"gender\")"
   ]
  },
  {
   "cell_type": "markdown",
   "id": "ecfd3926",
   "metadata": {},
   "source": [
    "## Research Question 1: What is the percetage of patients who missed their appointments"
   ]
  },
  {
   "cell_type": "code",
   "execution_count": 278,
   "id": "d7b6c521",
   "metadata": {},
   "outputs": [
    {
     "name": "stdout",
     "output_type": "stream",
     "text": [
      "\n",
      "20% of the patients missed their appointments\n",
      "80% of the patients showed up for their appointments\n"
     ]
    }
   ],
   "source": [
    "total = df.shape[0]\n",
    "missed = len(df.query(\"no_show == 'Yes'\"))\n",
    "attended = len(df.query(\"no_show == 'No'\"))\n",
    "percentage_missed = round((missed / total) * 100)\n",
    "percentage_attended = round((attended / total) * 100)\n",
    "print(f\"\"\"\n",
    "{percentage_missed}% of the patients missed their appointments\n",
    "{percentage_attended}% of the patients showed up for their appointments\"\"\")"
   ]
  },
  {
   "cell_type": "code",
   "execution_count": 279,
   "id": "6d336da4",
   "metadata": {},
   "outputs": [
    {
     "data": {
      "image/png": "[encoded data removed]",
      "text/plain": [
       "<Figure size 432x288 with 1 Axes>"
      ]
     },
     "metadata": {},
     "output_type": "display_data"
    }
   ],
   "source": [
    "df.no_show.value_counts().plot(kind = \"pie\", title=\"No show for appointments\", );"
   ]
  },
  {
   "cell_type": "markdown",
   "id": "f34489a5",
   "metadata": {},
   "source": [
    "## Research Question 2: How does the gender affect the rate of showing up for appointments"
   ]
  },
  {
   "cell_type": "code",
   "execution_count": 280,
   "id": "a11bc685",
   "metadata": {},
   "outputs": [
    {
     "data": {
      "image/png": "[encoded data removed]",
      "text/plain": [
       "<Figure size 432x288 with 1 Axes>"
      ]
     },
     "metadata": {
      "needs_background": "light"
     },
     "output_type": "display_data"
    }
   ],
   "source": [
    "female = df.query(\"gender == 'F'\")\n",
    "male = df.query(\"gender == 'M'\")\n",
    "\n",
    "female_missed = len(female.query(\"no_show == 'Yes'\"))\n",
    "male_missed = len(male.query(\"no_show == 'Yes'\"))\n",
    "total_female = female.shape[0]\n",
    "total_male = male.shape[0]\n",
    "\n",
    "percentage_missed_female = round((female_missed / total_female) * 100)\n",
    "percentage_missed_male = round((male_missed / total_male) * 100)\n",
    "\n",
    "df.groupby([\"gender\", \"no_show\"]).gender.count().unstack().plot.bar(legend=True,)\n",
    "plt.title(\"Show and No-show for Female and Males\");\n",
    "plt.xlabel(\"Gender\")\n",
    "plt.ylabel(\"Number of appointments\");"
   ]
  },
  {
   "cell_type": "code",
   "execution_count": 281,
   "id": "8e33136f",
   "metadata": {},
   "outputs": [
    {
     "name": "stdout",
     "output_type": "stream",
     "text": [
      "\n",
      "There were 71840 female appointments and 71840 which is 20% missed their appointments\n",
      "There were 38687 male appointments and 38687 which is 20% missed their appointments\n",
      "\n"
     ]
    }
   ],
   "source": [
    "print(f\"\"\"\n",
    "There were {female.shape[0]} female appointments and {total_female} which is {percentage_missed_female}% missed their appointments\n",
    "There were {male.shape[0]} male appointments and {total_male} which is {percentage_missed_male}% missed their appointments\n",
    "\"\"\")"
   ]
  },
  {
   "cell_type": "markdown",
   "id": "d2339c5d",
   "metadata": {},
   "source": [
    "## Research Question 3: Does receiving an SMS influence patients showing up"
   ]
  },
  {
   "cell_type": "markdown",
   "id": "6a6f8026",
   "metadata": {},
   "source": [
    "    I would like to find out if receiving or not receiving an SMS influenced the rate of showing up for appointments."
   ]
  },
  {
   "cell_type": "code",
   "execution_count": 282,
   "id": "45e91530",
   "metadata": {},
   "outputs": [
    {
     "name": "stdout",
     "output_type": "stream",
     "text": [
      "Received: 35482\n",
      "Not received: 75045\n",
      "Received an sms percentage = 32%\n"
     ]
    }
   ],
   "source": [
    "sms = list(df.sms_received.value_counts())\n",
    "print(f\"Received: {sms[1]}\")\n",
    "print(f\"Not received: {sms[0]}\")\n",
    "received_percentage = round((sms[1] / df.shape[0]) * 100)\n",
    "print(f\"Received an sms percentage = {received_percentage}%\")"
   ]
  },
  {
   "cell_type": "markdown",
   "id": "c0931296",
   "metadata": {},
   "source": [
    "Most of the patients did not receive an sms notification as only 32% received an sms"
   ]
  },
  {
   "cell_type": "code",
   "execution_count": 283,
   "id": "96f67dac",
   "metadata": {},
   "outputs": [
    {
     "data": {
      "image/png": "[encoded data removed]",
      "text/plain": [
       "<Figure size 432x288 with 1 Axes>"
      ]
     },
     "metadata": {},
     "output_type": "display_data"
    }
   ],
   "source": [
    "df.sms_received.value_counts().plot(kind=\"pie\");"
   ]
  },
  {
   "cell_type": "code",
   "execution_count": 284,
   "id": "73fa6984",
   "metadata": {},
   "outputs": [
    {
     "data": {
      "image/png": "[encoded data removed]",
      "text/plain": [
       "<Figure size 576x288 with 1 Axes>"
      ]
     },
     "metadata": {
      "needs_background": "light"
     },
     "output_type": "display_data"
    }
   ],
   "source": [
    "df.groupby([\"sms_received\", \"no_show\"]).sms_received.count().unstack().plot.bar(legend=True,figsize=(8,4))\n",
    "plt.title(\"Show and No-show when receiving or no receiving an SMS\");\n",
    "plt.xlabel(\"SMS received\")\n",
    "plt.ylabel(\"Number of appointments\");\n"
   ]
  },
  {
   "cell_type": "code",
   "execution_count": 285,
   "id": "bbb3ff71",
   "metadata": {},
   "outputs": [
    {
     "name": "stdout",
     "output_type": "stream",
     "text": [
      "\n",
      "72% of the patients who recieved an SMS attended their appointments\n",
      "28%of the patients who recieved an SMS missed their appoinments\n",
      "83% of the patients did not recieve an SMS attended their appoinments\n",
      "17% of the patients did not recieve an SMS missed their appoinments\n",
      "\n"
     ]
    }
   ],
   "source": [
    "received = df.query(\"sms_received == 1\")\n",
    "not_received= df.query(\"sms_received == 0\")\n",
    "\n",
    "received_missed = len(received.query(\"no_show == 'Yes'\"))\n",
    "not_received_missed = len(not_received.query(\"no_show == 'Yes'\"))\n",
    "received_attended = len(received.query(\"no_show == 'No'\"))\n",
    "not_received_attended  = len(not_received.query(\"no_show == 'No'\"))\n",
    "\n",
    "percentage_received_missed = round((received_missed / received.shape[0]) * 100)\n",
    "percentage_received_attended = round((received_attended / received.shape[0]) * 100)\n",
    "percentage_not_received_missed = round((not_received_missed / not_received.shape[0]) * 100)\n",
    "percentage_not_received_attended = round((not_received_attended / not_received.shape[0]) * 100)\n",
    "\n",
    "print(f\"\"\"\n",
    "{percentage_received_attended}% of the patients who recieved an SMS attended their appointments\n",
    "{percentage_received_missed}%of the patients who recieved an SMS missed their appoinments\n",
    "{percentage_not_received_attended}% of the patients did not recieve an SMS attended their appoinments\n",
    "{percentage_not_received_missed}% of the patients did not recieve an SMS missed their appoinments\n",
    "\"\"\")"
   ]
  },
  {
   "cell_type": "markdown",
   "id": "1ec21384",
   "metadata": {},
   "source": [
    "## Research Question: Does the day of the appointment influence showing up for appointments"
   ]
  },
  {
   "cell_type": "code",
   "execution_count": 286,
   "id": "7d604e6e",
   "metadata": {},
   "outputs": [
    {
     "data": {
      "image/png": "[encoded data removed]",
      "text/plain": [
       "<Figure size 432x288 with 1 Axes>"
      ]
     },
     "metadata": {
      "needs_background": "light"
     },
     "output_type": "display_data"
    }
   ],
   "source": [
    "histogram(\"appointment_day\")"
   ]
  },
  {
   "cell_type": "markdown",
   "id": "f2722628",
   "metadata": {},
   "source": [
    "The appointments are from Monday to Saturday and are almost evenly disributed apart from Saturday which have just a few appointments"
   ]
  },
  {
   "cell_type": "code",
   "execution_count": 287,
   "id": "7d295acb",
   "metadata": {},
   "outputs": [
    {
     "data": {
      "image/png": "[encoded data removed]",
      "text/plain": [
       "<Figure size 864x432 with 1 Axes>"
      ]
     },
     "metadata": {
      "needs_background": "light"
     },
     "output_type": "display_data"
    }
   ],
   "source": [
    "df.groupby([\"appointment_day\", \"no_show\"]).appointment_day.count().unstack().plot.bar(legend=True,figsize=(12,6))\n",
    "plt.title(\"Show and No-show when receiving or no receiving an SMS\");\n",
    "plt.xlabel(\"SMS received\")\n",
    "plt.ylabel(\"Number of appointments\");"
   ]
  },
  {
   "cell_type": "markdown",
   "id": "4a0b5717",
   "metadata": {},
   "source": [
    "From the chart the ratio of showing up and not for each day is almost the same"
   ]
  },
  {
   "cell_type": "markdown",
   "id": "74b745df",
   "metadata": {},
   "source": [
    "## Research Question 5: Does the age of patient influence their attendance\n"
   ]
  },
  {
   "cell_type": "markdown",
   "id": "4cab4963",
   "metadata": {},
   "source": [
    "The range of the ages of the patients is quite large so we create age groups to represent the patients age"
   ]
  },
  {
   "cell_type": "markdown",
   "id": "17882a26",
   "metadata": {},
   "source": [
    "#### Creating age groups for the patients"
   ]
  },
  {
   "cell_type": "code",
   "execution_count": 288,
   "id": "d76a109b",
   "metadata": {},
   "outputs": [],
   "source": [
    "rages = [(df.age <= 10), (df.age <= 18), (df.age <= 35), (df.age <= 50), (df.age <= 70), df.age > 70]"
   ]
  },
  {
   "cell_type": "code",
   "execution_count": 289,
   "id": "7bce6d4b",
   "metadata": {},
   "outputs": [],
   "source": [
    "age_groups = [\"Below 11\", \"11-18\", \"19-35\", \"36-50\", \"51-70\",\"Above 70\"]"
   ]
  },
  {
   "cell_type": "code",
   "execution_count": 290,
   "id": "bd8e2240",
   "metadata": {},
   "outputs": [
    {
     "data": {
      "text/plain": [
       "51-70       26850\n",
       "19-35       24137\n",
       "36-50       22100\n",
       "Below 11    18750\n",
       "11-18       10117\n",
       "Above 70     8573\n",
       "Name: age_group, dtype: int64"
      ]
     },
     "execution_count": 290,
     "metadata": {},
     "output_type": "execute_result"
    }
   ],
   "source": [
    "df[\"age_group\"] = np.select(rages, age_groups)\n",
    "df.age_group.value_counts()"
   ]
  },
  {
   "cell_type": "code",
   "execution_count": 291,
   "id": "3516981c",
   "metadata": {},
   "outputs": [
    {
     "data": {
      "image/png": "[encoded data removed]",
      "text/plain": [
       "<Figure size 432x288 with 1 Axes>"
      ]
     },
     "metadata": {
      "needs_background": "light"
     },
     "output_type": "display_data"
    }
   ],
   "source": [
    "df.age_group.value_counts().loc[age_groups].plot.bar(legend=True)\n",
    "plt.title('Number of patients in age groups')\n",
    "plt.xlabel(\"Age group\")\n",
    "plt.ylabel(\"Number of patients\");"
   ]
  },
  {
   "cell_type": "code",
   "execution_count": 292,
   "id": "05e6dbec",
   "metadata": {},
   "outputs": [
    {
     "data": {
      "text/plain": [
       "18750"
      ]
     },
     "execution_count": 292,
     "metadata": {},
     "output_type": "execute_result"
    }
   ],
   "source": [
    "len(df.query(\"age_group == 'Below 11'\"))"
   ]
  },
  {
   "cell_type": "code",
   "execution_count": 293,
   "id": "2392dde8",
   "metadata": {},
   "outputs": [
    {
     "name": "stdout",
     "output_type": "stream",
     "text": [
      "Below 11 = 17% of the total patients\n",
      "11-18 = 9% of the total patients\n",
      "19-35 = 22% of the total patients\n",
      "36-50 = 20% of the total patients\n",
      "51-70 = 24% of the total patients\n",
      "Above 70 = 8% of the total patients\n"
     ]
    }
   ],
   "source": [
    "total = df.shape[0]\n",
    "for i in age_groups:\n",
    "    number = len(df.query(f\"age_group == '{i}'\"))\n",
    "    agegroup_perct = round(number / total * 100)\n",
    "    print(f\"{i} = {agegroup_perct}% of the total patients\")\n",
    "        "
   ]
  },
  {
   "cell_type": "code",
   "execution_count": null,
   "id": "d7d83da2",
   "metadata": {},
   "outputs": [],
   "source": []
  },
  {
   "cell_type": "code",
   "execution_count": 294,
   "id": "bdfb7302",
   "metadata": {},
   "outputs": [
    {
     "data": {
      "image/png": "[encoded data removed]",
      "text/plain": [
       "<Figure size 864x432 with 1 Axes>"
      ]
     },
     "metadata": {
      "needs_background": "light"
     },
     "output_type": "display_data"
    }
   ],
   "source": [
    "df.groupby([\"age_group\", \"no_show\"]).age_group.count().unstack().loc[age_groups].plot.bar(legend=True,figsize=(12,6))\n",
    "plt.title(\"Show and no_show for different age groups\");\n",
    "plt.xlabel(\"Age group\")\n",
    "plt.ylabel(\"Number of patients\");"
   ]
  },
  {
   "cell_type": "markdown",
   "id": "110b5786",
   "metadata": {},
   "source": [
    "### Pecentage of attending and missing appointments for the various age groups"
   ]
  },
  {
   "cell_type": "code",
   "execution_count": 295,
   "id": "e08212f0",
   "metadata": {
    "scrolled": false
   },
   "outputs": [],
   "source": [
    "def percent(category):\n",
    "    dataframe = df.query(f\"age_group == '{category}'\")\n",
    "    missed = len(dataframe.query(\"no_show == 'Yes'\"))\n",
    "    attended = len(dataframe.query(\"no_show == 'No'\"))\n",
    "    percentage_missed = round((missed / dataframe.shape[0]) * 100)\n",
    "    percentage_attended = round((attended / dataframe.shape[0]) * 100)\n",
    "    print(f\"{percentage_attended}% of patients {category} years attended their appointments while {percentage_missed}% missed\")"
   ]
  },
  {
   "cell_type": "markdown",
   "id": "be314ce1",
   "metadata": {},
   "source": [
    "##### Below 11 years"
   ]
  },
  {
   "cell_type": "code",
   "execution_count": 296,
   "id": "22722529",
   "metadata": {},
   "outputs": [
    {
     "name": "stdout",
     "output_type": "stream",
     "text": [
      "80% of patients Below 11 years attended their appointments while 20% missed\n"
     ]
    }
   ],
   "source": [
    "percent(age_groups[0])"
   ]
  },
  {
   "cell_type": "markdown",
   "id": "802c728f",
   "metadata": {},
   "source": [
    "#### From 11 to 18 years"
   ]
  },
  {
   "cell_type": "code",
   "execution_count": 297,
   "id": "ec6c575c",
   "metadata": {},
   "outputs": [
    {
     "name": "stdout",
     "output_type": "stream",
     "text": [
      "75% of patients 11-18 years attended their appointments while 25% missed\n"
     ]
    }
   ],
   "source": [
    "percent(age_groups[1])"
   ]
  },
  {
   "cell_type": "markdown",
   "id": "887a43eb",
   "metadata": {},
   "source": [
    "#### from 19 to 35 years"
   ]
  },
  {
   "cell_type": "code",
   "execution_count": 298,
   "id": "2296c56b",
   "metadata": {},
   "outputs": [
    {
     "name": "stdout",
     "output_type": "stream",
     "text": [
      "76% of patients 19-35 years attended their appointments while 24% missed\n"
     ]
    }
   ],
   "source": [
    "percent(age_groups[2])"
   ]
  },
  {
   "cell_type": "markdown",
   "id": "0c79510b",
   "metadata": {},
   "source": [
    "#### From 36 to 50 years"
   ]
  },
  {
   "cell_type": "code",
   "execution_count": 299,
   "id": "f7674c9d",
   "metadata": {},
   "outputs": [
    {
     "name": "stdout",
     "output_type": "stream",
     "text": [
      "80% of patients 36-50 years attended their appointments while 20% missed\n"
     ]
    }
   ],
   "source": [
    "percent(age_groups[3])"
   ]
  },
  {
   "cell_type": "markdown",
   "id": "d8fbb464",
   "metadata": {},
   "source": [
    "#### From 51 to 70 years"
   ]
  },
  {
   "cell_type": "code",
   "execution_count": 300,
   "id": "6683f89b",
   "metadata": {},
   "outputs": [
    {
     "name": "stdout",
     "output_type": "stream",
     "text": [
      "84% of patients 51-70 years attended their appointments while 16% missed\n"
     ]
    }
   ],
   "source": [
    "percent(age_groups[4])"
   ]
  },
  {
   "cell_type": "markdown",
   "id": "2c0c84e9",
   "metadata": {},
   "source": [
    "#### Above 70 years"
   ]
  },
  {
   "cell_type": "code",
   "execution_count": 301,
   "id": "86c4b741",
   "metadata": {},
   "outputs": [
    {
     "name": "stdout",
     "output_type": "stream",
     "text": [
      "84% of patients Above 70 years attended their appointments while 16% missed\n"
     ]
    }
   ],
   "source": [
    "percent(age_groups[-1])"
   ]
  },
  {
   "cell_type": "markdown",
   "id": "6cebfd7a",
   "metadata": {},
   "source": [
    "## Research Question 6: How do the other in factors influece the rate of patients attending or missing appointments"
   ]
  },
  {
   "cell_type": "code",
   "execution_count": 302,
   "id": "29908ba9",
   "metadata": {},
   "outputs": [],
   "source": [
    "factors = [\"scholarship\", \"hipertension\", \"diabetes\", \"alcoholism\", ]"
   ]
  },
  {
   "cell_type": "code",
   "execution_count": 303,
   "id": "a6d11eca",
   "metadata": {},
   "outputs": [
    {
     "data": {
      "image/png": "[encoded data removed]",
      "text/plain": [
       "<Figure size 1152x792 with 4 Axes>"
      ]
     },
     "metadata": {
      "needs_background": "light"
     },
     "output_type": "display_data"
    }
   ],
   "source": [
    "fig = plt.figure(figsize=(16,11))\n",
    "for i, factor in enumerate(factors):\n",
    "    graph = fig.add_subplot(2, 2, i + 1)\n",
    "    df.groupby([factor, \"no_show\"])[factor].count().unstack(\"no_show\").plot(ax=graph, kind=\"bar\");"
   ]
  },
  {
   "cell_type": "markdown",
   "id": "0339e8d0",
   "metadata": {},
   "source": [
    "This factors (scholarship, hipertension, diabetes and alcoholism) have a similar pattern in affecting the show or no_show of patients. "
   ]
  },
  {
   "cell_type": "code",
   "execution_count": 304,
   "id": "b8e04375",
   "metadata": {},
   "outputs": [
    {
     "name": "stdout",
     "output_type": "stream",
     "text": [
      "\n"
     ]
    }
   ],
   "source": [
    "print()"
   ]
  },
  {
   "cell_type": "markdown",
   "id": "d35fb5d3",
   "metadata": {},
   "source": [
    "# Conclusion"
   ]
  },
  {
   "cell_type": "markdown",
   "id": "7bcdfcaf",
   "metadata": {},
   "source": [
    "After investigating most of the independent variables and also the dependent variable(no_show) the main limitation of the analysis was distribution of patients in the independent variables.\n",
    " \n",
    " The most important insights are:\n",
    " 1. An average of 20% of the appointments were missed\n",
    " 2. The gender of the patient had little or no effect on the rate of showing as the percentage for attending of both females and male is 20%\n",
    " 3. Receving an SMS was not effective as percentage of the people who missed their appointments was higher for those who received an SMS than those who did not\n",
    " 4. The appointment day had not significant effect on the rate for patients attending their appointments\n",
    " 5. Most of the patients were middle aged\n",
    " 5. Most of the young patients missed their appoinment while most of the eldery patients attended their appontments\n",
    " 6. For the other factors the rate of attending or missing for different categories is almost similar. There is no clear indication of these factors having a big impact of the rate of patients attending or missing appointments"
   ]
  },
  {
   "cell_type": "code",
   "execution_count": null,
   "id": "5d683fcc",
   "metadata": {},
   "outputs": [],
   "source": []
  }
 ],
 "metadata": {
  "kernelspec": {
   "display_name": "Python 3 (ipykernel)",
   "language": "python",
   "name": "python3"
  },
  "language_info": {
   "codemirror_mode": {
    "name": "ipython",
    "version": 3
   },
   "file_extension": ".py",
   "mimetype": "text/x-python",
   "name": "python",
   "nbconvert_exporter": "python",
   "pygments_lexer": "ipython3",
   "version": "3.9.7"
  }
 },
 "nbformat": 4,
 "nbformat_minor": 5
}
